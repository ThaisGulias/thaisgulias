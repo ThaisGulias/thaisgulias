{
  "nbformat": 4,
  "nbformat_minor": 0,
  "metadata": {
    "colab": {
      "provenance": [],
      "authorship_tag": "ABX9TyMhvCA7DDK01CLwzqBgjs4e"
    },
    "kernelspec": {
      "name": "python3",
      "display_name": "Python 3"
    },
    "language_info": {
      "name": "python"
    }
  },
  "cells": [
    {
      "cell_type": "markdown",
      "source": [
        "## Instalações"
      ],
      "metadata": {
        "id": "QV-oIcH4nbls"
      }
    },
    {
      "cell_type": "code",
      "execution_count": null,
      "metadata": {
        "id": "DA6J4-VCOrSR"
      },
      "outputs": [],
      "source": [
        "pip install onesignal-python-api"
      ]
    },
    {
      "cell_type": "code",
      "source": [
        "import requests\n",
        "import onesignal\n",
        "from onesignal.api import default_api\n",
        "import json\n",
        "import pandas as pd\n",
        "from datetime import datetime, date, timedelta"
      ],
      "metadata": {
        "id": "024Tlv4f0SJU"
      },
      "execution_count": null,
      "outputs": []
    },
    {
      "cell_type": "code",
      "source": [
        "pd.set_option('display.max_columns', None)\n",
        "pd.set_option('display.max_rows', None)\n",
        "pd.set_option('display.width', None)"
      ],
      "metadata": {
        "id": "LA04GtzAGMGJ"
      },
      "execution_count": null,
      "outputs": []
    },
    {
      "cell_type": "code",
      "source": [
        "# Substitua estas variáveis com suas próprias credenciais e URL da API\n",
        "rest_api_key = 'xxxxxxx'\n",
        "app_id = 'xxxxx'\n",
        "api_url = f'https://onesignal.com/api/v1/apps/{app_id}/players'"
      ],
      "metadata": {
        "id": "msCnJLh10VCc"
      },
      "execution_count": null,
      "outputs": []
    },
    {
      "cell_type": "code",
      "source": [
        "# Cabeçalhos necessários para autenticação\n",
        "headers = {\n",
        "    'Authorization': f'xxxxxx',\n",
        "}"
      ],
      "metadata": {
        "id": "4V6c174k0q2Y"
      },
      "execution_count": null,
      "outputs": []
    },
    {
      "cell_type": "code",
      "source": [
        "# Faça a solicitação GET para listar os dispositivos\n",
        "response = requests.get(api_url, headers=headers)"
      ],
      "metadata": {
        "id": "iqDOX2mp1xIr"
      },
      "execution_count": null,
      "outputs": []
    },
    {
      "cell_type": "code",
      "source": [
        "# Verifique se a solicitação foi bem-sucedida (código de status HTTP 200)\n",
        "if response.status_code == 200:\n",
        "    data = response.json()\n",
        "    print(data)\n",
        "elif response.status_code == 404:\n",
        "    print(\"Página não encontrada\")\n",
        "else:\n",
        "    print(f'Erro: {response.status_code}, {response.text}')"
      ],
      "metadata": {
        "id": "XwXJLUYY1z5Y"
      },
      "execution_count": null,
      "outputs": []
    },
    {
      "cell_type": "markdown",
      "source": [
        "### csv-endpoint"
      ],
      "metadata": {
        "id": "ejhYx7ep9I2M"
      }
    },
    {
      "cell_type": "code",
      "source": [
        "header = {\n",
        "    \"Content-Type\": \"application/json; charset=utf-8\",\n",
        "    \"Authorization\": \"xxxxx\"\n",
        "}\n",
        "\n",
        "app_id = \"xxxxxxx\"\n",
        "\n",
        "url = f\"https://onesignal.com/api/v1/players/csv_export?app_id={app_id}&offset=0\"\n",
        "\n",
        "req = requests.post(url, headers=header)\n",
        "\n",
        "if req.status_code == 200:\n",
        "    response = json.loads(req.text)\n",
        "    print(response)\n",
        "else:\n",
        "    print(f'Erro: {req.status_code}, {req.text}')\n"
      ],
      "metadata": {
        "id": "Of9gegpy6Nqq"
      },
      "execution_count": null,
      "outputs": []
    },
    {
      "cell_type": "code",
      "source": [
        "#Create DataFrame\n",
        "df = pd.DataFrame(response, index=[0])\n",
        "print(df)"
      ],
      "metadata": {
        "id": "TtyoarP26PvT"
      },
      "execution_count": null,
      "outputs": []
    },
    {
      "cell_type": "code",
      "source": [
        "##since response is a AWS s3 link, this section is pulling only the last row of the column csv_file_url which contains the URL\n",
        "df=df['csv_file_url'].iloc[-1]"
      ],
      "metadata": {
        "id": "vRabYYNP6RYN"
      },
      "execution_count": null,
      "outputs": []
    },
    {
      "cell_type": "code",
      "source": [
        "## to get data from the AWS S3 link, we have to unzip it\n",
        "data = pd.read_csv(df,compression='gzip')\n",
        "\n",
        "##Save unzipped format to a dataframe df\n",
        "df = pd.DataFrame(data)\n",
        "\n",
        "\n",
        "#Pull only specific metrics\n",
        "df=df.loc[:,['created_at','invalid_identifier']]\n",
        "print(df)\n",
        "\n",
        "#Create brandname to differentiate data from one appid to another. Here, I am creating a column called \"name\" and assigning it whatever name I'll decide on\n",
        "df['name'] = '{insert-name-you`d-want}'\n",
        "\n",
        "\n",
        "#remove timestamp from date\n",
        "df['created_at'] = pd.to_datetime(df['created_at']).dt.date\n",
        "df"
      ],
      "metadata": {
        "id": "LhA0D1eG6VQL"
      },
      "execution_count": null,
      "outputs": []
    },
    {
      "cell_type": "code",
      "source": [
        "df. info()"
      ],
      "metadata": {
        "id": "hrCz9gBT8zKo"
      },
      "execution_count": null,
      "outputs": []
    },
    {
      "cell_type": "code",
      "source": [
        "# Especifique o caminho do arquivo CSV onde você deseja salvar o DataFrame\n",
        "caminho_arquivo_csv = 'onesignal_endpoint.csv'\n",
        "\n",
        "# Use o método to_csv() para salvar o DataFrame como um arquivo CSV\n",
        "df.to_csv(caminho_arquivo_csv, index=False)"
      ],
      "metadata": {
        "id": "MspGAPIu9vqe"
      },
      "execution_count": null,
      "outputs": []
    },
    {
      "cell_type": "markdown",
      "source": [
        "## **view-notifications-endpointV2**"
      ],
      "metadata": {
        "id": "-LeKYQuf935q"
      }
    },
    {
      "cell_type": "code",
      "source": [
        "header = {\n",
        "    \"Content-Type\": \"application/json; charset=utf-8\",\n",
        "    \"Authorization\": \"xxxxxx\"\n",
        "}\n",
        "\n",
        "app_id = \"xxxxxx\"\n",
        "\n",
        "url = f\"https://onesignal.com/api/v1/notifications?app_id={app_id}\"\n",
        "\n",
        "req = requests.get(url, headers=header)\n",
        "\n",
        "if req.status_code == 200:\n",
        "    response = json.loads(req.text)\n",
        "    print(response)\n",
        "else:\n",
        "    print(f'Erro: {req.status_code}, {req.text}')"
      ],
      "metadata": {
        "id": "w5BhOlbk95ZH"
      },
      "execution_count": null,
      "outputs": []
    },
    {
      "cell_type": "code",
      "source": [
        "df=pd.json_normalize(response)\n",
        "df"
      ],
      "metadata": {
        "id": "Gi5Bh3NE-6z9"
      },
      "execution_count": null,
      "outputs": []
    },
    {
      "cell_type": "code",
      "source": [
        "df=pd.json_normalize(response, record_path =['notifications'])\n",
        "df"
      ],
      "metadata": {
        "id": "q6N_03w---x_"
      },
      "execution_count": null,
      "outputs": []
    },
    {
      "cell_type": "code",
      "source": [
        "df.columns.tolist()"
      ],
      "metadata": {
        "id": "qz6Pt24ElW6D"
      },
      "execution_count": null,
      "outputs": []
    },
    {
      "cell_type": "code",
      "source": [
        "colunas_a_excluir = [coluna for coluna in df.columns if all(df[coluna].isnull() | (df[coluna] == 0.0))]\n",
        "colunas_a_excluir"
      ],
      "metadata": {
        "id": "y4OW2bVfoE4h"
      },
      "execution_count": null,
      "outputs": []
    },
    {
      "cell_type": "code",
      "source": [
        "df = df.drop(columns=colunas_a_excluir)"
      ],
      "metadata": {
        "id": "sy13SfmM7U3L"
      },
      "execution_count": null,
      "outputs": []
    },
    {
      "cell_type": "code",
      "source": [
        "df2 = pd.json_normalize(response, 'notifications', ['completed_at', 'converted', 'received','successful'],\n",
        "                    record_prefix='notifications_', errors='ignore')\n",
        "df2"
      ],
      "metadata": {
        "id": "VabLrtAH_BwZ"
      },
      "execution_count": null,
      "outputs": []
    },
    {
      "cell_type": "code",
      "source": [
        "colunas_a_excluir2 = [coluna for coluna in df2.columns if all(df2[coluna].isnull() | (df2[coluna] == 0.0))]\n",
        "colunas_a_excluir2"
      ],
      "metadata": {
        "id": "wXOYyl3y-NVw"
      },
      "execution_count": null,
      "outputs": []
    },
    {
      "cell_type": "code",
      "source": [
        "df2 = df2.drop(columns=colunas_a_excluir2)\n",
        "df2"
      ],
      "metadata": {
        "id": "x-PcHoFH-b04"
      },
      "execution_count": null,
      "outputs": []
    },
    {
      "cell_type": "code",
      "source": [
        "df2.info()"
      ],
      "metadata": {
        "id": "gkECewGv-xox"
      },
      "execution_count": null,
      "outputs": []
    },
    {
      "cell_type": "code",
      "source": [
        "# Converter 'notifications_completed_at' para datetime\n",
        "df2['notifications_completed_at'] = pd.to_datetime(df2['notifications_completed_at'])\n",
        "\n",
        "# Converter 'notifications_completed_at' para o formato \"DD/MM/AA\"\n",
        "df2['notifications_completed_at'] = df2['notifications_completed_at'].dt.strftime('%d/%m/%y')\n",
        "\n",
        "# Repita o mesmo processo para 'notifications_queued_at'\n",
        "df2['notifications_queued_at'] = pd.to_datetime(df2['notifications_queued_at'])\n",
        "df2['notifications_queued_at'] = df2['notifications_queued_at'].dt.strftime('%d/%m/%y')\n",
        "\n",
        "# E também para 'notifications_send_after'\n",
        "df2['notifications_send_after'] = pd.to_datetime(df2['notifications_send_after'])\n",
        "df2['notifications_send_after'] = df2['notifications_send_after'].dt.strftime('%d/%m/%y')\n",
        "\n",
        "df2"
      ],
      "metadata": {
        "id": "1rceC_QnChj-"
      },
      "execution_count": null,
      "outputs": []
    },
    {
      "cell_type": "code",
      "source": [
        "# Especifique o caminho do arquivo CSV onde você deseja salvar o DataFrame\n",
        "caminho_arquivo_csv = 'onesignal_viewnotificationsendpoint.csv'\n",
        "\n",
        "# Use o método to_csv() para salvar o DataFrame como um arquivo CSV\n",
        "df2.to_csv(caminho_arquivo_csv, index=False)"
      ],
      "metadata": {
        "id": "HMQwObX_zve8"
      },
      "execution_count": null,
      "outputs": []
    },
    {
      "cell_type": "code",
      "source": [
        "tarefas_setembro_df2 = df2.dropna(subset=['notifications_completed_at'])\n",
        "tarefas_setembro_df2 = tarefas_setembro_df2[tarefas_setembro_df2['notifications_completed_at'].str.contains(\"/09/\")]\n",
        "\n",
        "tarefas_setembro_df2"
      ],
      "metadata": {
        "id": "w2TsEG8KHvyn"
      },
      "execution_count": null,
      "outputs": []
    },
    {
      "cell_type": "code",
      "source": [
        "soma_notifications_successful = tarefas_setembro_df2['notifications_successful'].sum()\n",
        "print(f\"A soma de notificações bem sucedidas é: {soma_notifications_successful}\")"
      ],
      "metadata": {
        "id": "YxyRrAizI7n_"
      },
      "execution_count": null,
      "outputs": []
    }
  ]
}