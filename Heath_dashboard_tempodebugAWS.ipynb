{
  "nbformat": 4,
  "nbformat_minor": 0,
  "metadata": {
    "colab": {
      "provenance": [],
      "authorship_tag": "ABX9TyO/3d7Q652J/UIIRAz/DP3W"
    },
    "kernelspec": {
      "name": "python3",
      "display_name": "Python 3"
    },
    "language_info": {
      "name": "python"
    }
  },
  "cells": [
    {
      "cell_type": "code",
      "source": [
        "import pandas as pd\n",
        "from collections import defaultdict"
      ],
      "metadata": {
        "id": "W9senOJE__IR"
      },
      "execution_count": null,
      "outputs": []
    },
    {
      "cell_type": "code",
      "source": [
        "df_cpu_utilization = pd.read_csv('/content/Database_CPU_Utilization-2023_09_19_12_00_00-2023_10_17_11_00_00-UTC.csv', sep=',', skiprows=[0, 1], header=2)\n",
        "df_read_iops = pd.read_csv('/content/Database_Read_IOPS-2023_09_19_12_00_00-2023_10_17_11_00_00-UTC.csv', sep=',', skiprows=[0, 1], header=2)\n",
        "df_prod_latency = pd.read_csv('/content/Database_Prod_Latency-2023_09_19_12_00_00-2023_10_17_11_00_00-UTC.csv', sep=',', skiprows=[0, 1], header=2)\n",
        "df_sessions_production = pd.read_csv('/content/Database_Sessions-2023_09_19_12_00_00-2023_10_17_11_00_00-UTC.csv', sep=',', skiprows=[0, 1], header=2)\n",
        "df_elastic_beanstalk_cpu = pd.read_csv('/content/Elastic_Beanstalk_-_CPU_Usage-2023_09_19_12_00_00-2023_10_17_11_00_00-UTC.csv', sep=',', skiprows=[0, 1], header=2)\n",
        "#df_load_balancer_requests = pd.read_csv('/content/Load_balancer_Total_requests_-_per_minute-2023_10_05_14_00_00-2023_10_05_16_00_00-UTC.csv', sep=',', skiprows=[0, 1], header=2)\n",
        "\n",
        "# Renomear a segunda coluna em cada DataFrame\n",
        "df_cpu_utilization.rename(columns={df_cpu_utilization.columns[2]: f'{df_cpu_utilization.columns[2]}1'}, inplace=True)\n",
        "df_read_iops.rename(columns={df_read_iops.columns[2]: f'{df_read_iops.columns[2]}1'}, inplace=True)\n",
        "df_prod_latency.rename(columns={df_prod_latency.columns[3]: f'{df_prod_latency.columns[3]}1'}, inplace=True)\n",
        "df_sessions_production.rename(columns={df_sessions_production.columns[2]: f'{df_sessions_production.columns[2]}1'}, inplace=True)\n",
        "df_elastic_beanstalk_cpu.rename(columns={df_elastic_beanstalk_cpu.columns[2]: f'{df_elastic_beanstalk_cpu.columns[2]}1'}, inplace=True)\n",
        "#df_load_balancer_requests.rename(columns={df_load_balancer_requests.columns[1]: 'Request'}, inplace=True)"
      ],
      "metadata": {
        "id": "Jn0RZ-Z0AIzf"
      },
      "execution_count": null,
      "outputs": []
    },
    {
      "cell_type": "code",
      "source": [
        "def convert_columns(df):\n",
        "    for column in df.columns:\n",
        "        if column == 'Label':\n",
        "            # Converte a coluna 'label' para o tipo de dados de data\n",
        "            df[column] = pd.to_datetime(df[column])\n",
        "        else:\n",
        "            # Converte todas as outras colunas para inteiros\n",
        "            df[column] = pd.to_numeric(df[column], errors='coerce', downcast='integer')\n",
        "\n",
        "convert_columns(df_cpu_utilization)\n",
        "convert_columns(df_read_iops)\n",
        "convert_columns(df_prod_latency)\n",
        "convert_columns(df_sessions_production)\n",
        "convert_columns(df_elastic_beanstalk_cpu)\n",
        "#convert_columns(df_load_balancer_requests)"
      ],
      "metadata": {
        "id": "Baj4pT-xETtl"
      },
      "execution_count": null,
      "outputs": []
    },
    {
      "cell_type": "code",
      "source": [
        "# Condições- USAR LINHAS AZUIS\n",
        "condition_1 = df_sessions_production['DBLoad'] > 100\n",
        "condition_2 = df_sessions_production['DBLoad.11'] > 50\n",
        "condition_3 = df_cpu_utilization['CPUUtilization.11'] > 95\n",
        "\n",
        "# Calcula a média das últimas 3 horas para a coluna 'ReadIOPS.11'\n",
        "rolling_mean_read_iops = df_read_iops['ReadIOPS'].rolling(window=3).mean()\n",
        "condition_4 = df_read_iops['ReadIOPS'] > (0.7 * rolling_mean_read_iops)\n",
        "\n",
        "condition_5 = df_prod_latency['ReadLatency'] > 2\n",
        "condition_6 = df_elastic_beanstalk_cpu['CPUUtilization'] > 80\n",
        "\n",
        "# Lista para armazenar informações sobre as ocorrências de problemas\n",
        "problemas = []\n",
        "\n",
        "# Verifica as condições e registra as ocorrências\n",
        "for index, row in df_sessions_production.iterrows():\n",
        "    if condition_1[index]:\n",
        "        problemas.append(f\"Database Sessions de Production > 100. Horário: {row['Label'].strftime('%Y-%m-%d %H:%M:%S')}\")\n",
        "    if condition_2[index]:\n",
        "        problemas.append(f\"Database Sessions de Read Replica > 50. Horário: {row['Label'].strftime('%Y-%m-%d %H:%M:%S')}\")\n",
        "    if condition_3[index]:\n",
        "        problemas.append(f\"Database CPU Utilization > 95%. Horário: {row['Label'].strftime('%Y-%m-%d %H:%M:%S')}\")\n",
        "    if condition_4[index]:\n",
        "        problemas.append(f\"Database Read IOPS > 70% da média das últimas 3 horas. Horário: {row['Label'].strftime('%Y-%m-%d %H:%M:%S')}\")\n",
        "    if condition_5[index]:\n",
        "        problemas.append(f\"Database Prod Latency > 2 seg. Horário: {row['Label'].strftime('%Y-%m-%d %H:%M:%S')}\")\n",
        "    if condition_6[index]:\n",
        "        problemas.append(f\"Elastic Beanstalk - CPU Usage > 80%. Horário: {row['Label'].strftime('%Y-%m-%d %H:%M:%S')}\")\n",
        "\n",
        "# Exibe as informações sobre as ocorrências de problemas\n",
        "if problemas:\n",
        "    for problema in problemas:\n",
        "        print(f\"Pode haver um problema: {problema}\")\n",
        "\n"
      ],
      "metadata": {
        "id": "IK4Skzz9FExW"
      },
      "execution_count": null,
      "outputs": []
    },
    {
      "cell_type": "code",
      "source": [
        "# Conjunto para rastrear os horários únicos com problemas\n",
        "horarios_com_problemas = set()\n",
        "\n",
        "# Verifica as condições e registra os horários únicos com problemas\n",
        "for index, row in df_sessions_production.iterrows():\n",
        "    if condition_1[index]:\n",
        "        horarios_com_problemas.add(row['Label'].strftime('%Y-%m-%d %H:%M:%S'))\n",
        "    if condition_2[index]:\n",
        "        horarios_com_problemas.add(row['Label'].strftime('%Y-%m-%d %H:%M:%S'))\n",
        "    if condition_3[index]:\n",
        "        horarios_com_problemas.add(row['Label'].strftime('%Y-%m-%d %H:%M:%S'))\n",
        "    if condition_4[index]:\n",
        "        horarios_com_problemas.add(row['Label'].strftime('%Y-%m-%d %H:%M:%S'))\n",
        "    if condition_5[index]:\n",
        "        horarios_com_problemas.add(row['Label'].strftime('%Y-%m-%d %H:%M:%S'))\n",
        "    if condition_6[index]:\n",
        "        horarios_com_problemas.add(row['Label'].strftime('%Y-%m-%d %H:%M:%S'))\n",
        "\n",
        "# Calcula o total de horas com problemas\n",
        "total_horas_com_problemas = len(horarios_com_problemas)\n",
        "\n",
        "# Exibe o total de horas com problemas\n",
        "print(f\"Total de horas com problemas: {total_horas_com_problemas} horas\")"
      ],
      "metadata": {
        "id": "jhrDB2vuHU-5"
      },
      "execution_count": null,
      "outputs": []
    },
    {
      "cell_type": "code",
      "source": [
        "# Dicionário para rastrear o número de horas com problemas por mês\n",
        "horas_com_problemas_por_mes = defaultdict(int)\n",
        "\n",
        "# Verifica as condições e registra o número de horas com problemas por mês\n",
        "for index, row in df_sessions_production.iterrows():\n",
        "    mes = row['Label'].strftime('%Y-%m')\n",
        "    if condition_1[index] or condition_2[index] or condition_3[index] or condition_4[index] or condition_5[index] or condition_6[index]:\n",
        "        horas_com_problemas_por_mes[mes] += 1\n",
        "\n",
        "# Calcula a média das horas com problemas para um mês específico (por exemplo, setembro - 2023-09)\n",
        "mes_especifico = '2023-09'\n",
        "total_horas_no_mes = horas_com_problemas_por_mes[mes_especifico]\n",
        "media_horas_no_mes = total_horas_no_mes / 30  # Assumindo 30 dias no mês\n",
        "\n",
        "# Exibe a média de horas com problemas no mês específico\n",
        "print(f\"Média de horas com problemas no mês: {media_horas_no_mes:.2f} horas\")"
      ],
      "metadata": {
        "colab": {
          "base_uri": "https://localhost:8080/"
        },
        "id": "hEmrVw9X9_Lp",
        "outputId": "5760e989-d39d-4847-dc6d-913a63c0ec4c"
      },
      "execution_count": null,
      "outputs": [
        {
          "output_type": "stream",
          "name": "stdout",
          "text": [
            "Média de horas com problemas no mês: 5.53 horas\n"
          ]
        }
      ]
    }
  ]
}