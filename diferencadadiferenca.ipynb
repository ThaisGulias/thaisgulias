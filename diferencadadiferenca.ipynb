{
  "nbformat": 4,
  "nbformat_minor": 0,
  "metadata": {
    "colab": {
      "provenance": [],
      "authorship_tag": "ABX9TyNrO1IOe6VevXl/yZY4xXDJ"
    },
    "kernelspec": {
      "name": "python3",
      "display_name": "Python 3"
    },
    "language_info": {
      "name": "python"
    }
  },
  "cells": [
    {
      "cell_type": "markdown",
      "source": [
        "https://matheusfacure.github.io/python-causality-handbook/13-Difference-in-Differences.html"
      ],
      "metadata": {
        "id": "vGI7iBZgl65y"
      }
    },
    {
      "cell_type": "markdown",
      "source": [
        "imports"
      ],
      "metadata": {
        "id": "H3qDFIAtl_Bp"
      }
    },
    {
      "cell_type": "code",
      "execution_count": null,
      "metadata": {
        "id": "kGjIQZtrDl7k"
      },
      "outputs": [],
      "source": [
        "import numpy as np\n",
        "import pandas as pd\n",
        "import statsmodels.api as sm\n",
        "import statsmodels.formula.api as smf\n",
        "import matplotlib.pyplot as plt"
      ]
    },
    {
      "cell_type": "code",
      "source": [
        "caso_julago = pd.read_csv('/content/caso_julago - Página1.csv')\n",
        "caso_julset = pd.read_csv('/content/caso_julaset - Página1.csv')\n",
        "controle_julago = pd.read_csv('/content/controle_julago - Página1.csv')\n",
        "controle_julset = pd.read_csv('/content/controle_julset - Página1.csv')\n"
      ],
      "metadata": {
        "id": "S4BZHjQLDpt9"
      },
      "execution_count": null,
      "outputs": []
    },
    {
      "cell_type": "code",
      "source": [
        "data = pd.read_csv('/content/meses-cluster.csv')"
      ],
      "metadata": {
        "id": "ncHnwzm12TZq"
      },
      "execution_count": null,
      "outputs": []
    },
    {
      "cell_type": "code",
      "source": [
        "data.head()"
      ],
      "metadata": {
        "id": "5ImKLxHC2uVD"
      },
      "execution_count": null,
      "outputs": []
    },
    {
      "cell_type": "markdown",
      "source": [
        "diff- antes e depois"
      ],
      "metadata": {
        "id": "Rq-5OPXNmBwf"
      }
    },
    {
      "cell_type": "code",
      "source": [
        "antes = data.query('casos == 0 and mes < 9, 0, 1')['casos_total'].mean()\n",
        "depois = data.query('casos == 1 and mes == 9, 1, 0')['casos_total'].mean()\n",
        "diff = depois - antes\n",
        "diff"
      ],
      "metadata": {
        "id": "zDWYI9CDHT2V"
      },
      "execution_count": null,
      "outputs": []
    },
    {
      "cell_type": "markdown",
      "source": [
        "Representa a diferença entre o resultado após o tratamento e o resultado antes do tratamento no grupo que está sendo estudado. Um valor positivo indica um aumento médio nos resultados após o tratamento, enquanto um valor negativo indica uma diminuição."
      ],
      "metadata": {
        "id": "gUCDzzJirJlz"
      }
    },
    {
      "cell_type": "markdown",
      "source": [
        "comparar pós intervenção"
      ],
      "metadata": {
        "id": "s_fD2de4K62Q"
      }
    },
    {
      "cell_type": "code",
      "source": [
        "depois_controle = controle_julset ['controle']. sum()/3\n",
        "diff2 = depois - depois_controle\n",
        "diff2"
      ],
      "metadata": {
        "colab": {
          "base_uri": "https://localhost:8080/"
        },
        "id": "QIoxcF5fJjlW",
        "outputId": "84a10fe3-13e4-43c9-e4c2-ce3ea9177c54"
      },
      "execution_count": null,
      "outputs": [
        {
          "output_type": "execute_result",
          "data": {
            "text/plain": [
              "-9044.333333333334"
            ]
          },
          "metadata": {},
          "execution_count": 6
        }
      ]
    },
    {
      "cell_type": "code",
      "source": [
        "antes_controle = controle_julago['controle']. sum()/ 2"
      ],
      "metadata": {
        "id": "eKPct0ygmLTe"
      },
      "execution_count": null,
      "outputs": []
    },
    {
      "cell_type": "markdown",
      "source": [
        "É a mudança média nos resultados no grupo de controle que não foi submetido ao tratamento. Um valor negativo indica uma diminuição nos resultados médios após o tratamento no grupo de controle."
      ],
      "metadata": {
        "id": "QAb-caVhrEHw"
      }
    },
    {
      "cell_type": "markdown",
      "source": [
        "diff-in-diff"
      ],
      "metadata": {
        "id": "m_fYATkQmMFn"
      }
    },
    {
      "cell_type": "code",
      "source": [
        "diff_in_diff = (depois - antes) - (depois_controle - antes_controle)\n",
        "\n",
        "diff_in_diff"
      ],
      "metadata": {
        "colab": {
          "base_uri": "https://localhost:8080/"
        },
        "id": "M2kVPpBJKZsp",
        "outputId": "92364f3c-1220-403d-ee41-12ab65c12e10"
      },
      "execution_count": null,
      "outputs": [
        {
          "output_type": "execute_result",
          "data": {
            "text/plain": [
              "4623.166666666666"
            ]
          },
          "metadata": {},
          "execution_count": 8
        }
      ]
    },
    {
      "cell_type": "markdown",
      "source": [
        "Representa o efeito médio do tratamento, levando em consideração o grupo de controle e as diferenças temporais. Neste caso, um valor positivo indica que o tratamento teve um efeito médio positivo em relação ao grupo de controle e ao longo do tempo."
      ],
      "metadata": {
        "id": "Z5HGJkqarAV4"
      }
    },
    {
      "cell_type": "markdown",
      "source": [
        "representação gráfica"
      ],
      "metadata": {
        "id": "RM8WCwyOoYDg"
      }
    },
    {
      "cell_type": "code",
      "source": [
        "# Rótulos para o eixo x\n",
        "labels = ['diff', 'diff2', 'diff_in_diff']\n",
        "\n",
        "# Valores correspondentes às métricas\n",
        "values = [diff, diff2, diff_in_diff]\n",
        "\n",
        "# Cria um gráfico de linhas\n",
        "plt.plot(labels, values, marker='o', linestyle='-', color='b')\n",
        "\n",
        "# Define um título para o gráfico\n",
        "plt.title('Diff-in-Diff Analysis')\n",
        "\n",
        "# Rotaciona os rótulos do eixo x para facilitar a leitura\n",
        "plt.xticks(rotation=45)\n",
        "\n",
        "# Adiciona rótulos aos pontos de dados\n",
        "for i, v in enumerate(values):\n",
        "    plt.text(i, v, str(round(v, 2)), ha='center', va='bottom')\n",
        "plt.show()"
      ],
      "metadata": {
        "colab": {
          "base_uri": "https://localhost:8080/",
          "height": 499
        },
        "id": "nSVUPVOnm6cW",
        "outputId": "b04a0b14-8ca4-47df-a863-fb4b3a6a3b32"
      },
      "execution_count": null,
      "outputs": [
        {
          "output_type": "display_data",
          "data": {
            "text/plain": [
              "<Figure size 640x480 with 1 Axes>"
            ],
            "image/png": "[encoded data removed]"
          },
          "metadata": {}
        }
      ]
    },
    {
      "cell_type": "markdown",
      "source": [
        "Conclusão:\n",
        "Um diff_in_diff positivo indica que a intervenção teve um impacto positivo médio em relação ao grupo de controle e ao longo do período de análise."
      ],
      "metadata": {
        "id": "zYbt_uHlroZ3"
      }
    }
  ]
}