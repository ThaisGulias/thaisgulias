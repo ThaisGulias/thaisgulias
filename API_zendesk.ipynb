{
  "nbformat": 4,
  "nbformat_minor": 0,
  "metadata": {
    "colab": {
      "provenance": [],
      "authorship_tag": "ABX9TyNLOMoijJNXlh/foMTPnHWG"
    },
    "kernelspec": {
      "name": "python3",
      "display_name": "Python 3"
    },
    "language_info": {
      "name": "python"
    }
  },
  "cells": [
    {
      "cell_type": "markdown",
      "source": [
        "Intalações e imports"
      ],
      "metadata": {
        "id": "c7XK5_CrVQZF"
      }
    },
    {
      "cell_type": "code",
      "source": [
        "pip install zenpy"
      ],
      "metadata": {
        "id": "C4Iv4mac22nR"
      },
      "execution_count": null,
      "outputs": []
    },
    {
      "cell_type": "code",
      "execution_count": null,
      "metadata": {
        "id": "8XPgiEkz152W"
      },
      "outputs": [],
      "source": [
        "from zenpy import Zenpy\n",
        "from zenpy.lib.api_objects import Ticket\n",
        "from datetime import datetime\n",
        "import pandas as pd"
      ]
    },
    {
      "cell_type": "markdown",
      "source": [
        "Credenciais"
      ],
      "metadata": {
        "id": "58w2lshjVUje"
      }
    },
    {
      "cell_type": "code",
      "source": [
        "zenpy_client = Zenpy(email = \"\", token = \"\", subdomain = \"\")"
      ],
      "metadata": {
        "id": "fhLg71gy29OQ"
      },
      "execution_count": null,
      "outputs": []
    },
    {
      "cell_type": "markdown",
      "source": [
        "TRF"
      ],
      "metadata": {
        "id": "egd5PB5-VWhR"
      }
    },
    {
      "cell_type": "code",
      "source": [
        "# Recupere todos os tickets disponíveis\n",
        "todos_tickets = zenpy_client.tickets()\n",
        "\n",
        "contador = 0\n",
        "for chamado in todos_tickets:\n",
        "    contador += 1\n",
        "\n",
        "    # Obtenha o momento de criação do ticket como um objeto de data\n",
        "    momento_de_criacao = datetime.strptime(chamado.created_at, \"%Y-%m-%dT%H:%M:%SZ\")\n",
        "\n",
        "    # Recupere os comentários do ticket (as respostas)\n",
        "    comentarios_do_ticket = zenpy_client.tickets.comments(ticket=chamado.id)\n",
        "\n",
        "    # Encontre o primeiro comentário público no ticket (a primeira resposta)\n",
        "    momento_primeira_resposta = None\n",
        "    for comentario in comentarios_do_ticket:\n",
        "        if comentario.public:\n",
        "            momento_primeira_resposta = datetime.strptime(comentario.created_at, \"%Y-%m-%dT%H:%M:%SZ\")\n",
        "            break\n",
        "\n",
        "    if momento_primeira_resposta:\n",
        "        tfr_em_segundos = (momento_primeira_resposta - momento_de_criacao).total_seconds()\n",
        "        print(f\"Tempo para a Primeira Resposta (TFR) para o Ticket #{chamado.id}: {tfr_em_segundos} segundos\")\n",
        "    else:\n",
        "        print(f\"Nenhuma primeira resposta encontrada para o Ticket #{chamado.id}\")\n",
        "\n",
        "\n",
        "print(f\"Total de itens processados: {contador}\")\n"
      ],
      "metadata": {
        "id": "dAWCXCC7RY3M"
      },
      "execution_count": null,
      "outputs": []
    },
    {
      "cell_type": "markdown",
      "source": [
        "DF com todos os dados"
      ],
      "metadata": {
        "id": "Xs6wSKQqVYcd"
      }
    },
    {
      "cell_type": "code",
      "source": [
        "# Data de início e fim do intervalo desejado\n",
        "start_time = datetime(2023, 1, 1, 0, 0, 0)\n",
        "end_time = datetime(2023, 12, 31, 23, 59, 59)\n",
        "params = {\n",
        "    'created_from': start_time,\n",
        "    'created_to': end_time,\n",
        "}\n",
        "\n",
        "\n",
        "tickets = zenpy_client.tickets(**params)\n",
        "\n",
        "unique_ticket_ids = set()\n",
        "\n",
        "# Crie uma lista de dicionários com as informações dos tickets\n",
        "ticket_data = []\n",
        "for ticket in tickets:\n",
        "\n",
        "    if ticket.id in unique_ticket_ids:\n",
        "        continue\n",
        "\n",
        "\n",
        "    unique_ticket_ids.add(ticket.id)\n",
        "\n",
        "    ticket_info = {\n",
        "        'ID do Ticket': ticket.id,\n",
        "        'Criado em': ticket.created_at,\n",
        "        'Assunto': ticket.subject,\n",
        "        'Status': ticket.status,\n",
        "        'Prioridade': ticket.priority,\n",
        "        'Tipo': ticket.type,\n",
        "        'Atribuído a': ticket.assignee.name if ticket.assignee else 'Não atribuído',\n",
        "        'Última Atualização': ticket.updated_at,\n",
        "        'Resolvido em': ticket.updated_at if ticket.status == 'Fechado' else 'Não resolvido',\n",
        "        'Grupo de Suporte': ticket.group.name if ticket.group else 'Não atribuído a grupo',\n",
        "        'Organização do Solicitante': ticket.organization.name if ticket.organization else 'Não atribuído',\n",
        "        'Solicitante': ticket.requester.name if ticket.requester else 'Não atribuído',\n",
        "        'Solicitante E-mail': ticket.requester.email if ticket.requester else 'E-mail não fornecido',\n",
        "        'Data de Vencimento': ticket.due_at,\n",
        "    }\n",
        "\n",
        "    # Calcular o TFR (Tempo para a Primeira Resposta)\n",
        "    comentarios_do_ticket = zenpy_client.tickets.comments(ticket.id)\n",
        "    primeiro_comentario_publico = next((comentario.created_at for comentario in comentarios_do_ticket if comentario.public), None)\n",
        "    if primeiro_comentario_publico:\n",
        "        tfr_em_segundos = (datetime.strptime(primeiro_comentario_publico, \"%Y-%m-%dT%H:%M:%SZ\") - datetime.strptime(ticket.created_at, \"%Y-%m-%dT%H:%M:%SZ\")).total_seconds()\n",
        "    else:\n",
        "        tfr_em_segundos = None\n",
        "\n",
        "    ticket_info['TFR (Tempo para a Primeira Resposta)'] = tfr_em_segundos\n",
        "\n",
        "    ticket_data.append(ticket_info)\n",
        "\n",
        "\n",
        "df = pd.DataFrame(ticket_data)\n"
      ],
      "metadata": {
        "id": "Z5KZ6eECUDoE"
      },
      "execution_count": null,
      "outputs": []
    },
    {
      "cell_type": "code",
      "source": [
        "df"
      ],
      "metadata": {
        "id": "G2KUZZhDUb2k"
      },
      "execution_count": null,
      "outputs": []
    }
  ]
}